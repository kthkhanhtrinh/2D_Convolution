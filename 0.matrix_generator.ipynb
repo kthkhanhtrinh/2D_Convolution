{
 "cells": [
  {
   "cell_type": "code",
   "execution_count": null,
   "id": "e0ceaaa4-4a45-40c7-a3e7-0e7f8f676385",
   "metadata": {},
   "outputs": [],
   "source": [
    "#IMAGE GENERATOR"
   ]
  },
  {
   "cell_type": "code",
   "execution_count": 6,
   "id": "a4f0e699-8633-4081-b70d-f90073081529",
   "metadata": {},
   "outputs": [
    {
     "name": "stdin",
     "output_type": "stream",
     "text": [
      "Enter the number of rows:  5\n"
     ]
    },
    {
     "name": "stdout",
     "output_type": "stream",
     "text": [
      "4-Bit Binary Matrix saved to input.txt\n"
     ]
    }
   ],
   "source": [
    "import numpy as np\n",
    "\n",
    "def generate_random_integer_matrix(rows, columns):\n",
    "    if rows <= 0:\n",
    "        return \"Invalid matrix size\"\n",
    "    \n",
    "    random_matrix = np.random.randint(0, 16, size=(rows, columns), dtype=np.uint8)\n",
    "    return random_matrix\n",
    "\n",
    "def integer_matrix_to_binary(matrix):\n",
    "    binary_matrix = np.unpackbits(matrix, axis=1).reshape(matrix.shape[0], -1, 8)[:, :, -4:]\n",
    "    return binary_matrix\n",
    "\n",
    "# Example usage:\n",
    "rows = int(input(\"Enter the number of rows: \"))\n",
    "result = generate_random_integer_matrix(rows, rows)\n",
    "\n",
    "binary_result = integer_matrix_to_binary(result)\n",
    "\n",
    "# Specify the file path where you want to save the output\n",
    "output_file = \"input.txt\"\n",
    "\n",
    "# Open the file for writing and write the binary matrix to the file\n",
    "with open(output_file, \"w\") as file:\n",
    "    for row in binary_result:\n",
    "        file.write(\"\\n\".join(map(str, row)) + \"\\n\")\n",
    "\n",
    "print(f\"4-Bit Binary Matrix saved to {output_file}\")\n"
   ]
  },
  {
   "cell_type": "code",
   "execution_count": 7,
   "id": "05f58894-6bf0-49a4-a7b4-7a27e644bf7b",
   "metadata": {},
   "outputs": [
    {
     "name": "stdout",
     "output_type": "stream",
     "text": [
      "Processed content saved to C:\\Users\\khanh\\image.txt\n"
     ]
    }
   ],
   "source": [
    "def process_file(input_file, output_file):\n",
    "    try:\n",
    "        with open(input_file, \"r\") as file:\n",
    "            lines = file.readlines()\n",
    "\n",
    "        modified_lines = []\n",
    "\n",
    "        for line in lines:\n",
    "            # Remove spaces between numbers and brackets at the beginning and end of each line\n",
    "            modified_line = line.strip().replace(\"[\", \"\").replace(\"]\", \"\\n\").replace(\" \", \"\")\n",
    "            modified_lines.append(modified_line)\n",
    "\n",
    "        with open(output_file, \"w\") as file:\n",
    "            file.writelines(modified_lines)\n",
    "\n",
    "        print(f\"Processed content saved to {output_file}\")\n",
    "    except FileNotFoundError:\n",
    "        print(f\"File not found: {input_file}\")\n",
    "    except Exception as e:\n",
    "        print(f\"An error occurred: {str(e)}\")\n",
    "\n",
    "# Specify the input and output file paths\n",
    "input_file = \"input.txt\"  # Replace with your input file\n",
    "output_file = \"C:\\\\Users\\\\khanh\\\\image.txt\"  # Replace with your output file\n",
    "\n",
    "# Call the function to process the file\n",
    "process_file(input_file, output_file)\n"
   ]
  },
  {
   "cell_type": "code",
   "execution_count": null,
   "id": "771e5e58-fcc6-4d6c-851c-f077d3831d7e",
   "metadata": {},
   "outputs": [],
   "source": []
  }
 ],
 "metadata": {
  "kernelspec": {
   "display_name": "Python 3 (ipykernel)",
   "language": "python",
   "name": "python3"
  },
  "language_info": {
   "codemirror_mode": {
    "name": "ipython",
    "version": 3
   },
   "file_extension": ".py",
   "mimetype": "text/x-python",
   "name": "python",
   "nbconvert_exporter": "python",
   "pygments_lexer": "ipython3",
   "version": "3.11.0"
  }
 },
 "nbformat": 4,
 "nbformat_minor": 5
}
