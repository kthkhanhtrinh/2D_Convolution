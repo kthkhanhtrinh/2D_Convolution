{
 "cells": [
  {
   "cell_type": "code",
   "execution_count": null,
   "id": "e0ceaaa4-4a45-40c7-a3e7-0e7f8f676385",
   "metadata": {},
   "outputs": [],
   "source": [
    "#IMAGE GENERATOR"
   ]
  },
  {
   "cell_type": "code",
   "execution_count": 25,
   "id": "a4f0e699-8633-4081-b70d-f90073081529",
   "metadata": {},
   "outputs": [
    {
     "name": "stdin",
     "output_type": "stream",
     "text": [
      "Enter the number of rows:  5\n",
      "Enter the number of kernel rows 3\n"
     ]
    },
    {
     "name": "stdout",
     "output_type": "stream",
     "text": [
      "4-Bit Binary Matrix saved to input_img.txt\n",
      "4-Bit Binary Matrix saved to input_ker.txt\n",
      "[[12  5 12  1  2]\n",
      " [ 4 13 11  5 13]\n",
      " [10  1  0 14  5]\n",
      " [11  6  6  0 13]\n",
      " [14  2  0  0  2]]\n",
      "[[ 5  0 10]\n",
      " [13 12 10]\n",
      " [11  5  3]]\n"
     ]
    }
   ],
   "source": [
    "import numpy as np\n",
    "\n",
    "def generate_random_integer_matrix(rows, columns):\n",
    "    if rows <= 0:\n",
    "        return \"Invalid matrix size\"\n",
    "    \n",
    "    random_matrix = np.random.randint(0, 16, size=(rows, columns), dtype=np.uint8)\n",
    "    return random_matrix\n",
    "\n",
    "def integer_matrix_to_binary(matrix):\n",
    "    binary_matrix = np.unpackbits(matrix, axis=1).reshape(matrix.shape[0], -1, 8)[:, :, -4:]\n",
    "    return binary_matrix\n",
    "\n",
    "# Example usage:\n",
    "rows = int(input(\"Enter the number of rows: \"))\n",
    "input_img = generate_random_integer_matrix(rows, rows)\n",
    "k_row = int(input(\"Enter the number of kernel rows\")) \n",
    "kernel = generate_random_integer_matrix(k_row, k_row)\n",
    "\n",
    "binary_result_img = integer_matrix_to_binary(input_img)\n",
    "binary_result_ker = integer_matrix_to_binary(kernel)\n",
    "\n",
    "# Specify the file path where you want to save the output\n",
    "outputImg_file = \"input_img.txt\"\n",
    "outputKer_file = \"input_ker.txt\"\n",
    "\n",
    "# Open the file for writing and write the binary matrix to the file\n",
    "with open(outputImg_file, \"w\") as file:\n",
    "    for row in binary_result_img:\n",
    "        file.write(\"\\n\".join(map(str, row)) + \"\\n\")\n",
    "\n",
    "with open(outputKer_file, \"w\") as file:\n",
    "    for row in binary_result_ker:\n",
    "        file.write(\"\\n\".join(map(str, row)) + \"\\n\")\n",
    "\n",
    "print(f\"4-Bit Binary Matrix saved to {outputImg_file}\")\n",
    "print(f\"4-Bit Binary Matrix saved to {outputKer_file}\")\n",
    "print(input_img)\n",
    "print(kernel)\n"
   ]
  },
  {
   "cell_type": "code",
   "execution_count": 27,
   "id": "05f58894-6bf0-49a4-a7b4-7a27e644bf7b",
   "metadata": {},
   "outputs": [
    {
     "name": "stdout",
     "output_type": "stream",
     "text": [
      "Processed content saved to C:\\Users\\khanh\\image.txt\n",
      "Processed content saved to C:\\Users\\khanh\\kernel.txt\n"
     ]
    }
   ],
   "source": [
    "def process_file(input_file, output_file):\n",
    "    try:\n",
    "        with open(input_file, \"r\") as file:\n",
    "            lines = file.readlines()\n",
    "\n",
    "        modified_lines = []\n",
    "\n",
    "        for line in lines:\n",
    "            # Remove spaces between numbers and brackets at the beginning and end of each line\n",
    "            modified_line = line.strip().replace(\"[\", \"\").replace(\"]\", \"\\n\").replace(\" \", \"\")\n",
    "            modified_lines.append(modified_line)\n",
    "\n",
    "        with open(output_file, \"w\") as file:\n",
    "            file.writelines(modified_lines)\n",
    "\n",
    "        print(f\"Processed content saved to {output_file}\")\n",
    "    except FileNotFoundError:\n",
    "        print(f\"File not found: {input_file}\")\n",
    "    except Exception as e:\n",
    "        print(f\"An error occurred: {str(e)}\")\n",
    "\n",
    "# Specify the input and output file paths\n",
    "input_file1 = \"input_img.txt\"  # Replace with your input file\n",
    "output_file1 = \"C:\\\\Users\\\\khanh\\\\image.txt\"  # Replace with your output file\n",
    "\n",
    "input_file2 = \"input_ker.txt\"  # Replace with your input file\n",
    "output_file2 = \"C:\\\\Users\\\\khanh\\\\kernel.txt\"  # Replace with your output file\n",
    "\n",
    "# Call the function to process the file\n",
    "process_file(input_file1, output_file1)\n",
    "process_file(input_file2, output_file2)\n"
   ]
  },
  {
   "cell_type": "code",
   "execution_count": null,
   "id": "0b22ba27-a854-463b-9f4c-e80f6aa20778",
   "metadata": {},
   "outputs": [],
   "source": [
    "#Python Convolution"
   ]
  },
  {
   "cell_type": "code",
   "execution_count": 28,
   "id": "771e5e58-fcc6-4d6c-851c-f077d3831d7e",
   "metadata": {},
   "outputs": [],
   "source": [
    "import numpy as np\n",
    "from numpy import asarray\n",
    "from keras.models import Sequential\n",
    "from keras.layers import Conv2D\n",
    "from keras.layers import MaxPooling2D\n",
    "from keras.layers import AveragePooling2D\n",
    "from keras.layers import Flatten\n",
    "from keras.layers import *"
   ]
  },
  {
   "cell_type": "code",
   "execution_count": 29,
   "id": "9ffa9b0d-a48e-48b1-9512-546c53f8dc64",
   "metadata": {},
   "outputs": [
    {
     "name": "stdout",
     "output_type": "stream",
     "text": [
      "\n",
      "#---------KERNEL-------------#\n",
      "\n",
      "1/1 [==============================] - 0s 46ms/step\n",
      "[613.0, 439.0, 498.0]\n",
      "[441.0, 364.0, 508.0]\n",
      "[489.0, 317.0, 264.0]\n"
     ]
    }
   ],
   "source": [
    "input_img = np.asarray(input_img) #5x5 matrix\n",
    "input_img = input_img.reshape(1, 5, 5, 1)\n",
    "kernel = kernel.reshape(3, 3, 1, 1)\n",
    "weights = [np.asarray(kernel), asarray([0.0])]\n",
    "\n",
    "print(\"\\n#---------KERNEL-------------#\\n\")\n",
    "model = Sequential()\n",
    "model.add(Conv2D(1, (3, 3), input_shape=(5,5,1)))\n",
    "# model.summary()\n",
    "\n",
    "model.set_weights(weights)\n",
    "yhat = model.predict(input_img)\n",
    "for r in range(yhat.shape[1]):\n",
    "    print([yhat[0, r, c, 0] for c in range(yhat.shape[2])])"
   ]
  },
  {
   "cell_type": "code",
   "execution_count": 30,
   "id": "ec4e286d-54f7-40db-ab17-15371ba15cc1",
   "metadata": {},
   "outputs": [
    {
     "name": "stdout",
     "output_type": "stream",
     "text": [
      "1/1 [==============================] - 0s 43ms/step\n",
      "[13, 12]\n",
      "[11, 14]\n"
     ]
    }
   ],
   "source": [
    "# input_img2 = np.asarray(input_img2) #5x5 matrix\n",
    "# input_img2 = input_img2.reshape(1, 5, 5, 1)\n",
    "# kernel = kernel.reshape(3, 3, 1, 1)\n",
    "\n",
    "model2 = Sequential()\n",
    "# model2.add(Conv2D(1, (3, 3),padding = 'same', input_shape=(5,5,1)))\n",
    "model2.add(MaxPooling2D((2,2))) #MAX POOLING 2X2\n",
    "# model2.add(AveragePooling2D((2,2))) # AVG POOLING 2X2\n",
    "# model.summary()\n",
    "# weights2 = [np.asarray(kernel), asarray([0.0])]\n",
    "# model2.set_weights(weights2)\n",
    "yhat = model2.predict(input_img)\n",
    "for r in range(yhat.shape[1]):\n",
    "    print([yhat[0, r, c, 0] for c in range(yhat.shape[2])])"
   ]
  }
 ],
 "metadata": {
  "kernelspec": {
   "display_name": "Python 3 (ipykernel)",
   "language": "python",
   "name": "python3"
  },
  "language_info": {
   "codemirror_mode": {
    "name": "ipython",
    "version": 3
   },
   "file_extension": ".py",
   "mimetype": "text/x-python",
   "name": "python",
   "nbconvert_exporter": "python",
   "pygments_lexer": "ipython3",
   "version": "3.11.0"
  }
 },
 "nbformat": 4,
 "nbformat_minor": 5
}
